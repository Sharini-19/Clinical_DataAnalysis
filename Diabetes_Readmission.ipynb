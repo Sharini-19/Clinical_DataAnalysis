{
  "nbformat": 4,
  "nbformat_minor": 0,
  "metadata": {
    "colab": {
      "provenance": [],
      "authorship_tag": "ABX9TyPZ1dSphgiEia6+tzw3aWBH",
      "include_colab_link": true
    },
    "kernelspec": {
      "name": "python3",
      "display_name": "Python 3"
    },
    "language_info": {
      "name": "python"
    }
  },
  "cells": [
    {
      "cell_type": "markdown",
      "metadata": {
        "id": "view-in-github",
        "colab_type": "text"
      },
      "source": [
        "<a href=\"https://colab.research.google.com/github/Sharini-19/Clinical_DataAnalysis/blob/main/Diabetes_Readmission.ipynb\" target=\"_parent\"><img src=\"https://colab.research.google.com/assets/colab-badge.svg\" alt=\"Open In Colab\"/></a>"
      ]
    },
    {
      "cell_type": "markdown",
      "source": [],
      "metadata": {
        "id": "tuQpNmV_F0CM"
      }
    },
    {
      "cell_type": "code",
      "execution_count": 11,
      "metadata": {
        "colab": {
          "base_uri": "https://localhost:8080/"
        },
        "id": "P-903_eeFwDm",
        "outputId": "1bd720b0-4da4-494e-9a1c-e5571cc5a9f2"
      },
      "outputs": [
        {
          "output_type": "stream",
          "name": "stdout",
          "text": [
            "['NO' '>30' '<30']\n"
          ]
        }
      ],
      "source": [
        "import pandas as pd\n",
        "\n",
        "# Load the dataset\n",
        "file_path = '/content/diabetic_data.csv'\n",
        "data = pd.read_csv(file_path)\n",
        "\n",
        "# Display the unique values in the 'readmitted' column\n",
        "print(data['readmitted'].unique())\n",
        "\n"
      ]
    },
    {
      "cell_type": "code",
      "source": [
        "print(data.shape)"
      ],
      "metadata": {
        "colab": {
          "base_uri": "https://localhost:8080/"
        },
        "id": "0HJ37Q9jIHj9",
        "outputId": "604670a0-4e71-4095-c1b6-d743810c99f3"
      },
      "execution_count": 12,
      "outputs": [
        {
          "output_type": "stream",
          "name": "stdout",
          "text": [
            "(101766, 50)\n"
          ]
        }
      ]
    },
    {
      "cell_type": "markdown",
      "source": [
        "**Data Preprocessing**"
      ],
      "metadata": {
        "id": "ZFb3Y5brJn2j"
      }
    },
    {
      "cell_type": "code",
      "source": [
        "# Convert 'readmitted' into a binary target variable\n",
        "data['Target'] = (data['readmitted'] == '<30').astype(int)\n",
        "data.drop('readmitted', axis=1, inplace=True)\n",
        "\n",
        "# Handle missing values and '?' placeholders\n",
        "# Example: Replace '?' with NaN and then fill or drop\n",
        "data.replace('?', pd.NA, inplace=True)\n",
        "data.fillna(method='ffill', inplace=True)  # Forward fill for simplicity; consider other methods as appropriate\n",
        "\n",
        "# Convert categorical variables using get_dummies\n",
        "data = pd.get_dummies(data)\n",
        "\n"
      ],
      "metadata": {
        "id": "gUGYHqOPF8YY"
      },
      "execution_count": 13,
      "outputs": []
    },
    {
      "cell_type": "markdown",
      "source": [
        "**Split the Data**"
      ],
      "metadata": {
        "id": "RlIT7iqeJlRx"
      }
    },
    {
      "cell_type": "code",
      "source": [
        "from sklearn.model_selection import train_test_split\n",
        "\n",
        "X = data.drop('Target', axis=1)  # Ensure 'Target' is your outcome variable\n",
        "y = data['Target']\n",
        "\n",
        "X_train, X_test, y_train, y_test = train_test_split(X, y, test_size=0.3, random_state=42)\n"
      ],
      "metadata": {
        "id": "lMWlruH3H8Ug"
      },
      "execution_count": 14,
      "outputs": []
    },
    {
      "cell_type": "markdown",
      "source": [
        "**Model Building**"
      ],
      "metadata": {
        "id": "8eK3zNTJJfnU"
      }
    },
    {
      "cell_type": "code",
      "source": [
        "from sklearn.linear_model import LogisticRegression\n",
        "from sklearn.metrics import accuracy_score, classification_report\n",
        "\n",
        "model = LogisticRegression(max_iter=1000)\n",
        "model.fit(X_train, y_train)\n",
        "y_pred = model.predict(X_test)\n",
        "\n",
        "# Evaluate the model\n",
        "print(\"Accuracy:\", accuracy_score(y_test, y_pred))\n",
        "print(\"Classification Report:\\n\", classification_report(y_test, y_pred))\n"
      ],
      "metadata": {
        "colab": {
          "base_uri": "https://localhost:8080/"
        },
        "id": "P0KIT97DIZ3w",
        "outputId": "e82d3101-eb71-451c-863e-ee2035d4bad2"
      },
      "execution_count": 15,
      "outputs": [
        {
          "output_type": "stream",
          "name": "stdout",
          "text": [
            "Accuracy: 0.8878152636750737\n",
            "Classification Report:\n",
            "               precision    recall  f1-score   support\n",
            "\n",
            "           0       0.89      1.00      0.94     27105\n",
            "           1       0.00      0.00      0.00      3425\n",
            "\n",
            "    accuracy                           0.89     30530\n",
            "   macro avg       0.44      0.50      0.47     30530\n",
            "weighted avg       0.79      0.89      0.84     30530\n",
            "\n"
          ]
        },
        {
          "output_type": "stream",
          "name": "stderr",
          "text": [
            "/usr/local/lib/python3.10/dist-packages/sklearn/metrics/_classification.py:1344: UndefinedMetricWarning: Precision and F-score are ill-defined and being set to 0.0 in labels with no predicted samples. Use `zero_division` parameter to control this behavior.\n",
            "  _warn_prf(average, modifier, msg_start, len(result))\n",
            "/usr/local/lib/python3.10/dist-packages/sklearn/metrics/_classification.py:1344: UndefinedMetricWarning: Precision and F-score are ill-defined and being set to 0.0 in labels with no predicted samples. Use `zero_division` parameter to control this behavior.\n",
            "  _warn_prf(average, modifier, msg_start, len(result))\n",
            "/usr/local/lib/python3.10/dist-packages/sklearn/metrics/_classification.py:1344: UndefinedMetricWarning: Precision and F-score are ill-defined and being set to 0.0 in labels with no predicted samples. Use `zero_division` parameter to control this behavior.\n",
            "  _warn_prf(average, modifier, msg_start, len(result))\n"
          ]
        }
      ]
    },
    {
      "cell_type": "markdown",
      "source": [
        "\n",
        "**Advanced Model Evaluation**\n",
        "\n",
        "**To better understand the model's performance, consider plotting an ROC curve and calculating the AUC score**    "
      ],
      "metadata": {
        "id": "-e9O3xxCJYf5"
      }
    },
    {
      "cell_type": "code",
      "source": [
        "from sklearn.metrics import roc_curve, auc\n",
        "import matplotlib.pyplot as plt\n",
        "\n",
        "fpr, tpr, thresholds = roc_curve(y_test, model.predict_proba(X_test)[:,1])\n",
        "roc_auc = auc(fpr, tpr)\n",
        "\n",
        "plt.figure()\n",
        "plt.plot(fpr, tpr, color='darkorange', lw=2, label='ROC curve (area = %0.2f)' % roc_auc)\n",
        "plt.plot([0, 1], [0, 1], color='navy', lw=2, linestyle='--')\n",
        "plt.xlim([0.0, 1.0])\n",
        "plt.ylim([0.0, 1.05])\n",
        "plt.xlabel('False Positive Rate')\n",
        "plt.ylabel('True Positive Rate')\n",
        "plt.title('Receiver Operating Characteristic')\n",
        "plt.legend(loc=\"lower right\")\n",
        "plt.show()\n"
      ],
      "metadata": {
        "colab": {
          "base_uri": "https://localhost:8080/",
          "height": 472
        },
        "id": "iK4wKUb6Ib2i",
        "outputId": "c4d16d2b-934c-443b-a83c-34aa631d5e17"
      },
      "execution_count": 16,
      "outputs": [
        {
          "output_type": "display_data",
          "data": {
            "text/plain": [
              "<Figure size 640x480 with 1 Axes>"
            ],
            "image/png": "[encoded data removed]"
          },
          "metadata": {}
        }
      ]
    },
    {
      "cell_type": "markdown",
      "source": [
        "**The above prediction model is specifically designed to address a common challenge in healthcare: predicting whether diabetic patients will be readmitted to a hospital within 30 days after their discharge. This predictive task is crucial because it has implications for patient care, hospital administration, and overall healthcare resource management.**"
      ],
      "metadata": {
        "id": "kaubIzXoIzGF"
      }
    },
    {
      "cell_type": "markdown",
      "source": [
        "**The above prediction model is specifically designed to address a common challenge in healthcare:\n",
        "predicting whether diabetic patients will be readmitted to a hospital within 30 days after their discharge.\n",
        "This predictive task is crucial because it has implications for patient care, hospital administration, and overall healthcare resource management.**\n",
        "\n",
        "**Objectives of the Prediction Model**\n",
        "1. **Predict Hospital Readmissions**: The primary goal is to determine if a diabetic patient will be readmitted within 30 days of their initial discharge.\n",
        "This is a critical metric for hospitals as it often reflects on the quality of care delivered and helps identify areas for improvement in patient management.\n",
        "2. **Improve Patient Outcomes**: By accurately predicting potential readmissions, healthcare providers can implement preemptive interventions to improve patient outcomes, adjust treatment plans, and provide additional support where necessary.\n",
        "3. **Resource Management**: Understanding readmission risks helps hospitals better manage resources by anticipating demands on services and allocating resources more efficiently, which is especially important in high-demand areas like diabetes care.\n",
        "\n",
        "**How the Model Works**\n",
        "- **Data Preprocessing**: The model first processes a dataset by handling missing values, encoding categorical variables, and defining a binary target variable. The 'readmitted' column is transformed to reflect '1' if a patient was readmitted within 30 days and '0' otherwise.\n",
        "- **Model Training and Testing**: A logistic regression model is used as a baseline approach. This method is chosen for its efficiency and effectiveness in binary classification tasks. The dataset is split into training and testing sets to evaluate the model's performance on unseen data.\n",
        "- **Evaluation**: The model's accuracy and its ability to classify patients correctly are assessed using metrics like accuracy score and ROC-AUC. These metrics help evaluate how well the model distinguishes between patients who will be readmitted and those who will not.\n",
        "\n",
        "**Importance in Healthcare**\n",
        "Predictive modeling in healthcare, particularly using data-driven approaches like this one, plays a vital role in enhancing patient care strategies, reducing unnecessary hospital readmissions, and optimizing healthcare delivery.\n",
        "This model not only helps in proactive patient management but also in reducing the financial strain on patients and healthcare systems due to repeated admissions.\n",
        "\n",
        "By leveraging historical data and patient records, the model attempts to capture underlying patterns and risk factors associated with readmissions, which can then be used to inform clinical decisions and policy-making.\n",
        "The insights gained from such models are invaluable for continuous improvement in healthcare services, especially for chronic conditions like diabetes that require long-term management and care."
      ],
      "metadata": {
        "id": "kZzLGfHKJPnr"
      }
    },
    {
      "cell_type": "code",
      "source": [],
      "metadata": {
        "id": "Dakn_qggIhnd"
      },
      "execution_count": null,
      "outputs": []
    },
    {
      "cell_type": "markdown",
      "source": [],
      "metadata": {
        "id": "DLC_fzHfJSdX"
      }
    }
  ]
}